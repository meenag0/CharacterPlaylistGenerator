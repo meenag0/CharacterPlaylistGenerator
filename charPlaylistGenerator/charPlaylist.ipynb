{
 "cells": [
  {
   "cell_type": "code",
   "execution_count": 191,
   "metadata": {},
   "outputs": [],
   "source": [
    "import pandas as pd\n"
   ]
  },
  {
   "cell_type": "code",
   "execution_count": 192,
   "metadata": {},
   "outputs": [],
   "source": [
    "mbti_df = pd.read_csv('/Users/meenakshigopalakrishnan/CharacterPlaylistGenerator/charPlaylistGenerator/mbti.csv')"
   ]
  },
  {
   "cell_type": "code",
   "execution_count": 193,
   "metadata": {},
   "outputs": [
    {
     "name": "stdout",
     "output_type": "stream",
     "text": [
      "          stat  mbti enneagram                     role  \\\n",
      "0  697 / 162    ESFP       7w6  Peter Quill \"Star-Lord\"   \n",
      "1  668 / 231    ESFP       8w7         Anakin Skywalker   \n",
      "2  589 / 243    ESFP       6w7              Ron Weasley   \n",
      "3  312 / 101    ESFP       7w8      Bellatrix Lestrange   \n",
      "4  302 / 105    ESFP       7w6                    Simba   \n",
      "\n",
      "                          movie  \\\n",
      "0     Marvel Cinematic Universe   \n",
      "1                     Star Wars   \n",
      "2      Harry Potter (franchise)   \n",
      "3      Harry Potter (franchise)   \n",
      "4          The Lion King (1994)   \n",
      "\n",
      "                                             img_url  \n",
      "0  https://www.personality-database.com/profile_i...  \n",
      "1  https://www.personality-database.com/profile_i...  \n",
      "2  https://www.personality-database.com/profile_i...  \n",
      "3  https://www.personality-database.com/profile_i...  \n",
      "4  https://www.personality-database.com/profile_i...  \n"
     ]
    }
   ],
   "source": [
    "print(mbti_df.head())"
   ]
  },
  {
   "cell_type": "code",
   "execution_count": 148,
   "metadata": {},
   "outputs": [
    {
     "name": "stdout",
     "output_type": "stream",
     "text": [
      "<class 'pandas.core.frame.DataFrame'>\n",
      "RangeIndex: 18741 entries, 0 to 18740\n",
      "Data columns (total 6 columns):\n",
      " #   Column     Non-Null Count  Dtype \n",
      "---  ------     --------------  ----- \n",
      " 0   stat       18476 non-null  object\n",
      " 1   mbti       18741 non-null  object\n",
      " 2   enneagram  12066 non-null  object\n",
      " 3   role       18741 non-null  object\n",
      " 4   movie      18741 non-null  object\n",
      " 5   img_url    18741 non-null  object\n",
      "dtypes: object(6)\n",
      "memory usage: 878.6+ KB\n",
      "None\n"
     ]
    }
   ],
   "source": [
    "print(mbti_df.info())\n"
   ]
  },
  {
   "cell_type": "code",
   "execution_count": 149,
   "metadata": {},
   "outputs": [
    {
     "name": "stdout",
     "output_type": "stream",
     "text": [
      "           stat   mbti enneagram   role         movie  \\\n",
      "count     18476  18741     12066  18741         18741   \n",
      "unique     1544     17        18  15254          3150   \n",
      "top     1 / 0     ESTP       6w5    Ben     Star Wars   \n",
      "freq       3795   1578      1077     18           207   \n",
      "\n",
      "                                                  img_url  \n",
      "count                                               18741  \n",
      "unique                                              10677  \n",
      "top     https://www.personality-database.com/images/pr...  \n",
      "freq                                                 6964  \n"
     ]
    }
   ],
   "source": [
    "print(mbti_df.describe())\n"
   ]
  },
  {
   "cell_type": "code",
   "execution_count": 194,
   "metadata": {},
   "outputs": [
    {
     "name": "stdout",
     "output_type": "stream",
     "text": [
      "['ESFP' 'XXXX' 'ESFJ' 'ESTP' 'ESTJ' 'ENFP' 'ENFJ' 'ENTP' 'ENTJ' 'ISFP'\n",
      " 'ISFJ' 'ISTP' 'ISTJ' 'INFP' 'INFJ' 'INTP' 'INTJ']\n",
      "['7w6' '8w7' '6w7' '7w8' '9w8' '4w3' '3w2' '2w3' '3w4' '9w1' '2w1' '8w9'\n",
      " nan '5w6' '1w9' '4w5' '6w5' '5w4' '1w2']\n",
      "['Peter Quill \"Star-Lord\"' 'Anakin Skywalker' 'Ron Weasley' ... 'Alfi'\n",
      " \"Klimek 'The General'\" 'Lily Walker']\n",
      "['   Marvel Cinematic Universe' '   Star Wars'\n",
      " '   Harry Potter (franchise)' ... '   The 6th Day (2000)'\n",
      " '   The Switch (2010)' '   Dignitate (2020)']\n"
     ]
    }
   ],
   "source": [
    "print(mbti_df['mbti'].unique())\n",
    "print(mbti_df['enneagram'].unique())\n",
    "print(mbti_df['role'].unique())\n",
    "print(mbti_df['movie'].unique())"
   ]
  },
  {
   "cell_type": "code",
   "execution_count": 195,
   "metadata": {},
   "outputs": [
    {
     "name": "stdout",
     "output_type": "stream",
     "text": [
      "          stat  mbti enneagram                               role  \\\n",
      "334    8 / 1    XXXX       3w4                   Barbara Sugerman   \n",
      "433    6 / 0    XXXX       NaN  Billy the Kid / William H. Bonney   \n",
      "437    6 / 1    XXXX       7w8                        Rachel Flax   \n",
      "443    6 / 1    XXXX       7w8                        Rachel Flax   \n",
      "453    6 / 1    XXXX       7w8                        Rachel Flax   \n",
      "...        ...   ...       ...                                ...   \n",
      "18524  2 / 2    XXXX       NaN                  Maximillian Cohen   \n",
      "18525  2 / 2    XXXX       NaN                                Eli   \n",
      "18529  2 / 0    XXXX       NaN                      Creepo Monkey   \n",
      "18735      NaN  XXXX       NaN                       Mr. Chauncey   \n",
      "18738      NaN  XXXX       NaN                               Alfi   \n",
      "\n",
      "                                      movie  \\\n",
      "334                                 Don Jon   \n",
      "433                              Young Guns   \n",
      "437                         Mermaids (1990)   \n",
      "443                         Mermaids (1990)   \n",
      "453                         Mermaids (1990)   \n",
      "...                                     ...   \n",
      "18524                             Pi (1998)   \n",
      "18525                       The Book of Eli   \n",
      "18529                     The Croods (2013)   \n",
      "18735     Bad Girls From Valley High (2005)   \n",
      "18738                      Dignitate (2020)   \n",
      "\n",
      "                                                 img_url  \n",
      "334    https://www.personality-database.com/profile_i...  \n",
      "433    https://www.personality-database.com/profile_i...  \n",
      "437    https://www.personality-database.com/profile_i...  \n",
      "443    https://www.personality-database.com/profile_i...  \n",
      "453    https://www.personality-database.com/profile_i...  \n",
      "...                                                  ...  \n",
      "18524  https://www.personality-database.com/profile_i...  \n",
      "18525  https://www.personality-database.com/profile_i...  \n",
      "18529  https://www.personality-database.com/profile_i...  \n",
      "18735  https://www.personality-database.com/images/pr...  \n",
      "18738  https://www.personality-database.com/images/pr...  \n",
      "\n",
      "[734 rows x 6 columns]\n"
     ]
    }
   ],
   "source": [
    "characters_XXXX = mbti_df[mbti_df['mbti'] == 'XXXX']\n",
    "print(characters_XXXX)"
   ]
  },
  {
   "cell_type": "code",
   "execution_count": 196,
   "metadata": {},
   "outputs": [],
   "source": [
    "mbti_df.drop_duplicates(inplace=True)"
   ]
  },
  {
   "cell_type": "code",
   "execution_count": 153,
   "metadata": {},
   "outputs": [
    {
     "name": "stdout",
     "output_type": "stream",
     "text": [
      "          stat  mbti enneagram                     role  \\\n",
      "0  697 / 162    ESFP       7w6  Peter Quill \"Star-Lord\"   \n",
      "1  668 / 231    ESFP       8w7         Anakin Skywalker   \n",
      "2  589 / 243    ESFP       6w7              Ron Weasley   \n",
      "3  312 / 101    ESFP       7w8      Bellatrix Lestrange   \n",
      "4  302 / 105    ESFP       7w6                    Simba   \n",
      "\n",
      "                          movie  \\\n",
      "0     Marvel Cinematic Universe   \n",
      "1                     Star Wars   \n",
      "2      Harry Potter (franchise)   \n",
      "3      Harry Potter (franchise)   \n",
      "4          The Lion King (1994)   \n",
      "\n",
      "                                             img_url  \n",
      "0  https://www.personality-database.com/profile_i...  \n",
      "1  https://www.personality-database.com/profile_i...  \n",
      "2  https://www.personality-database.com/profile_i...  \n",
      "3  https://www.personality-database.com/profile_i...  \n",
      "4  https://www.personality-database.com/profile_i...  \n",
      "           stat   mbti enneagram   role         movie  \\\n",
      "count     17178  17443     10920  17443         17443   \n",
      "unique     1544     17        18  15254          3150   \n",
      "top     1 / 0     ESTP       6w5   Jack     Star Wars   \n",
      "freq       3795   1461       957     16           179   \n",
      "\n",
      "                                                  img_url  \n",
      "count                                               17443  \n",
      "unique                                              10677  \n",
      "top     https://www.personality-database.com/images/pr...  \n",
      "freq                                                 6767  \n"
     ]
    }
   ],
   "source": [
    "print(mbti_df.head())\n",
    "print(mbti_df.describe())\n"
   ]
  },
  {
   "cell_type": "code",
   "execution_count": 197,
   "metadata": {},
   "outputs": [],
   "source": [
    "mbti_spotify_metrics_df = pd.read_csv('/Users/meenakshigopalakrishnan/CharacterPlaylistGenerator/charPlaylistGenerator/combined_mbti_df.csv')"
   ]
  },
  {
   "cell_type": "code",
   "execution_count": 155,
   "metadata": {},
   "outputs": [
    {
     "name": "stdout",
     "output_type": "stream",
     "text": [
      "       danceability_mean  danceability_stdev  energy_mean  energy_stdev  \\\n",
      "count        4081.000000         4081.000000  4081.000000   4081.000000   \n",
      "mean            0.594771            0.137174     0.634659      0.174650   \n",
      "std             0.076392            0.022816     0.115151      0.037043   \n",
      "min             0.000000            0.000000     0.000000      0.000000   \n",
      "25%             0.547760            0.122893     0.575250      0.150700   \n",
      "50%             0.595913            0.137370     0.650960      0.173687   \n",
      "75%             0.645680            0.152059     0.708840      0.198262   \n",
      "max             0.840222            0.282041     0.966200      0.298931   \n",
      "\n",
      "       loudness_mean  loudness_stdev    mode_mean   mode_stdev  \\\n",
      "count    4081.000000     4081.000000  4081.000000  4081.000000   \n",
      "mean       -7.137655        2.862843     0.604764     0.470202   \n",
      "std         2.062154        1.020139     0.144996     0.057373   \n",
      "min       -27.224077        0.000000     0.000000     0.000000   \n",
      "25%        -7.959500        2.188356     0.500000     0.462910   \n",
      "50%        -6.826882        2.670050     0.600000     0.492545   \n",
      "75%        -5.977080        3.322071     0.700000     0.503457   \n",
      "max         0.000000        9.471898     1.000000     0.522233   \n",
      "\n",
      "       speechiness_mean  speechiness_stdev  ...  Aminor_count  AMajor_count  \\\n",
      "count       4081.000000        4081.000000  ...   4081.000000   4081.000000   \n",
      "mean           0.078756           0.065731  ...      1.845626      2.324675   \n",
      "std            0.035454           0.031449  ...      1.619031      1.851920   \n",
      "min            0.000000           0.000000  ...      0.000000      0.000000   \n",
      "25%            0.056116           0.042431  ...      1.000000      1.000000   \n",
      "50%            0.071858           0.064117  ...      2.000000      2.000000   \n",
      "75%            0.093854           0.086081  ...      3.000000      3.000000   \n",
      "max            0.899660           0.235575  ...     10.000000     13.000000   \n",
      "\n",
      "       A#/Bbminor_count  BMajor_count  Dminor_count  D#_Ebminor_count  \\\n",
      "count       4081.000000   4081.000000   4081.000000       4077.000000   \n",
      "mean           1.381279      1.299681      0.816222          0.444444   \n",
      "std            1.419466      1.287619      1.033764          0.736785   \n",
      "min            0.000000      0.000000      0.000000          0.000000   \n",
      "25%            0.000000      0.000000      0.000000          0.000000   \n",
      "50%            1.000000      1.000000      1.000000          0.000000   \n",
      "75%            2.000000      2.000000      1.000000          1.000000   \n",
      "max           21.000000     11.000000      9.000000          6.000000   \n",
      "\n",
      "       Gminor_count  A#/BbMajor_count  F#/GbMajor_count  Bminor_count  \n",
      "count   4081.000000       4081.000000       4081.000000   4081.000000  \n",
      "mean       1.092624          1.302132          1.576084      2.019113  \n",
      "std        1.121207          1.327543          1.381657      1.701247  \n",
      "min        0.000000          0.000000          0.000000      0.000000  \n",
      "25%        0.000000          0.000000          1.000000      1.000000  \n",
      "50%        1.000000          1.000000          1.000000      2.000000  \n",
      "75%        2.000000          2.000000          2.000000      3.000000  \n",
      "max        9.000000         12.000000         10.000000      9.000000  \n",
      "\n",
      "[8 rows x 44 columns]\n"
     ]
    }
   ],
   "source": [
    "print(mbti_spotify_metrics_df.describe())\n"
   ]
  },
  {
   "cell_type": "code",
   "execution_count": 156,
   "metadata": {},
   "outputs": [
    {
     "name": "stdout",
     "output_type": "stream",
     "text": [
      "Index(['mbti', 'function_pair', 'danceability_mean', 'danceability_stdev',\n",
      "       'energy_mean', 'energy_stdev', 'loudness_mean', 'loudness_stdev',\n",
      "       'mode_mean', 'mode_stdev', 'speechiness_mean', 'speechiness_stdev',\n",
      "       'acousticness_mean', 'acousticness_stdev', 'liveness_mean',\n",
      "       'liveness_stdev', 'valence_mean', 'valence_stdev', 'tempo_mean',\n",
      "       'tempo_stdev', 'instrumentalness_mean', 'instrumentalness_stdev',\n",
      "       'Cminor_count', 'CMajor_count', 'C#/Dbminor_count', 'C#/DbMajor_count',\n",
      "       'DMajor_count', 'D#_EbMajor_count', 'Eminor_count', 'EMajor_count',\n",
      "       'Fminor_count', 'FMajor_count', 'F#/Gbminor_count', 'GMajor_count',\n",
      "       'G#/Abminor_count', 'G#/AbMajor_count', 'Aminor_count', 'AMajor_count',\n",
      "       'A#/Bbminor_count', 'BMajor_count', 'Dminor_count', 'D#_Ebminor_count',\n",
      "       'Gminor_count', 'A#/BbMajor_count', 'F#/GbMajor_count', 'Bminor_count'],\n",
      "      dtype='object')\n"
     ]
    }
   ],
   "source": [
    "print(mbti_spotify_metrics_df.columns)\n"
   ]
  },
  {
   "cell_type": "code",
   "execution_count": 198,
   "metadata": {},
   "outputs": [],
   "source": [
    "numeric_cols = ['danceability_mean', 'energy_mean', 'loudness_mean', 'mode_mean', 'speechiness_mean', 'acousticness_mean', 'instrumentalness_mean', 'liveness_mean', 'valence_mean']\n",
    "mbti_spotify_metrics_df[numeric_cols] = mbti_spotify_metrics_df[numeric_cols].apply(pd.to_numeric, errors='coerce')"
   ]
  },
  {
   "cell_type": "code",
   "execution_count": 199,
   "metadata": {},
   "outputs": [
    {
     "name": "stdout",
     "output_type": "stream",
     "text": [
      "mbti                       object\n",
      "function_pair              object\n",
      "danceability_mean         float64\n",
      "danceability_stdev        float64\n",
      "energy_mean               float64\n",
      "energy_stdev              float64\n",
      "loudness_mean             float64\n",
      "loudness_stdev            float64\n",
      "mode_mean                 float64\n",
      "mode_stdev                float64\n",
      "speechiness_mean          float64\n",
      "speechiness_stdev         float64\n",
      "acousticness_mean         float64\n",
      "acousticness_stdev        float64\n",
      "liveness_mean             float64\n",
      "liveness_stdev            float64\n",
      "valence_mean              float64\n",
      "valence_stdev             float64\n",
      "tempo_mean                float64\n",
      "tempo_stdev               float64\n",
      "instrumentalness_mean     float64\n",
      "instrumentalness_stdev    float64\n",
      "Cminor_count              float64\n",
      "CMajor_count              float64\n",
      "C#/Dbminor_count          float64\n",
      "C#/DbMajor_count          float64\n",
      "DMajor_count              float64\n",
      "D#_EbMajor_count          float64\n",
      "Eminor_count              float64\n",
      "EMajor_count              float64\n",
      "Fminor_count              float64\n",
      "FMajor_count              float64\n",
      "F#/Gbminor_count          float64\n",
      "GMajor_count              float64\n",
      "G#/Abminor_count          float64\n",
      "G#/AbMajor_count          float64\n",
      "Aminor_count              float64\n",
      "AMajor_count              float64\n",
      "A#/Bbminor_count          float64\n",
      "BMajor_count              float64\n",
      "Dminor_count              float64\n",
      "D#_Ebminor_count          float64\n",
      "Gminor_count              float64\n",
      "A#/BbMajor_count          float64\n",
      "F#/GbMajor_count          float64\n",
      "Bminor_count              float64\n",
      "dtype: object\n"
     ]
    }
   ],
   "source": [
    "print(mbti_spotify_metrics_df.dtypes)\n"
   ]
  },
  {
   "cell_type": "code",
   "execution_count": 200,
   "metadata": {},
   "outputs": [],
   "source": [
    "columns_to_drop = ['danceability_stdev', 'energy_stdev', 'loudness_stdev', 'mode_stdev', 'speechiness_stdev', \n",
    "                   'acousticness_stdev', 'liveness_stdev', 'valence_stdev', 'tempo_stdev', 'instrumentalness_stdev',\n",
    "                   'Cminor_count', 'CMajor_count', 'C#/Dbminor_count', 'C#/DbMajor_count', 'DMajor_count', \n",
    "                   'D#_EbMajor_count', 'Eminor_count', 'EMajor_count', 'Fminor_count', 'FMajor_count', \n",
    "                   'F#/Gbminor_count', 'GMajor_count', 'G#/Abminor_count', 'G#/AbMajor_count', 'Aminor_count', \n",
    "                   'AMajor_count', 'A#/Bbminor_count', 'BMajor_count', 'Dminor_count', 'D#_Ebminor_count', \n",
    "                   'Gminor_count', 'A#/BbMajor_count', 'F#/GbMajor_count', 'Bminor_count']\n",
    "mbti_spotify_metrics_df.drop(columns=columns_to_drop, inplace=True, errors='ignore')\n"
   ]
  },
  {
   "cell_type": "code",
   "execution_count": 201,
   "metadata": {},
   "outputs": [],
   "source": [
    "numeric_columns = mbti_spotify_metrics_df.select_dtypes(include=['float64']).columns\n",
    "mbti_agg_metrics = mbti_spotify_metrics_df.groupby('mbti')[numeric_columns].mean().reset_index()"
   ]
  },
  {
   "cell_type": "code",
   "execution_count": 202,
   "metadata": {},
   "outputs": [
    {
     "name": "stdout",
     "output_type": "stream",
     "text": [
      "    mbti  danceability_mean  energy_mean  loudness_mean  mode_mean  \\\n",
      "0   ENFJ           0.587899     0.613069      -7.350223   0.668101   \n",
      "1   ENFP           0.617160     0.665137      -6.686634   0.642880   \n",
      "2   ENTJ           0.631979     0.677213      -6.374244   0.492467   \n",
      "3   ENTP           0.631851     0.688228      -6.378168   0.526433   \n",
      "4   ESFJ           0.597484     0.628275      -6.906210   0.661813   \n",
      "5   ESFP           0.638366     0.691941      -6.265767   0.597945   \n",
      "6   ESTJ           0.628262     0.659110      -6.607564   0.535391   \n",
      "7   ESTP           0.636329     0.704636      -6.224988   0.554658   \n",
      "8   INFJ           0.552437     0.564813      -8.017217   0.639508   \n",
      "9   INFP           0.568625     0.572403      -7.908142   0.655904   \n",
      "10  INTJ           0.566374     0.630989      -7.368659   0.541247   \n",
      "11  INTP           0.571847     0.631635      -7.664007   0.609219   \n",
      "12  ISFJ           0.560341     0.543273      -8.311073   0.731536   \n",
      "13  ISFP           0.575950     0.618136      -7.172016   0.634343   \n",
      "14  ISTJ           0.562151     0.587628      -8.059672   0.646661   \n",
      "15  ISTP           0.600349     0.660284      -6.892431   0.583748   \n",
      "\n",
      "    speechiness_mean  acousticness_mean  liveness_mean  valence_mean  \\\n",
      "0           0.071001           0.276993       0.171675      0.477248   \n",
      "1           0.073006           0.231054       0.184654      0.530097   \n",
      "2           0.100175           0.179875       0.187273      0.495100   \n",
      "3           0.094166           0.162147       0.193663      0.530731   \n",
      "4           0.071973           0.269205       0.178081      0.500124   \n",
      "5           0.083037           0.187097       0.188853      0.555461   \n",
      "6           0.094724           0.211900       0.179810      0.505723   \n",
      "7           0.104276           0.161459       0.195407      0.531187   \n",
      "8           0.060858           0.348565       0.167733      0.412079   \n",
      "9           0.068767           0.344511       0.167466      0.426083   \n",
      "10          0.078262           0.241258       0.177858      0.426475   \n",
      "11          0.074370           0.247652       0.179930      0.448025   \n",
      "12          0.060779           0.391522       0.167703      0.422153   \n",
      "13          0.068296           0.279184       0.177952      0.453644   \n",
      "14          0.065410           0.310627       0.172671      0.441578   \n",
      "15          0.087394           0.203445       0.193706      0.480869   \n",
      "\n",
      "    tempo_mean  instrumentalness_mean  \n",
      "0   121.698345               0.060069  \n",
      "1   122.699232               0.055942  \n",
      "2   122.627487               0.051835  \n",
      "3   123.098486               0.067196  \n",
      "4   120.962375               0.043884  \n",
      "5   123.097601               0.041390  \n",
      "6   121.867689               0.073039  \n",
      "7   124.639659               0.051824  \n",
      "8   118.761481               0.092760  \n",
      "9   120.291096               0.087894  \n",
      "10  122.380492               0.122211  \n",
      "11  122.779681               0.138098  \n",
      "12  120.943454               0.077430  \n",
      "13  121.177001               0.053826  \n",
      "14  121.238459               0.106479  \n",
      "15  121.696814               0.086530  \n"
     ]
    }
   ],
   "source": [
    "print(mbti_agg_metrics)\n"
   ]
  },
  {
   "cell_type": "code",
   "execution_count": 203,
   "metadata": {},
   "outputs": [
    {
     "name": "stdout",
     "output_type": "stream",
     "text": [
      "           stat   mbti enneagram   role         movie  \\\n",
      "count     17178  17443     10920  17443         17443   \n",
      "unique     1544     17        18  15254          3150   \n",
      "top     1 / 0     ESTP       6w5   Jack     Star Wars   \n",
      "freq       3795   1461       957     16           179   \n",
      "\n",
      "                                                  img_url  \n",
      "count                                               17443  \n",
      "unique                                              10677  \n",
      "top     https://www.personality-database.com/images/pr...  \n",
      "freq                                                 6767  \n"
     ]
    }
   ],
   "source": [
    "print(mbti_df.describe())\n"
   ]
  },
  {
   "cell_type": "code",
   "execution_count": 204,
   "metadata": {},
   "outputs": [
    {
     "name": "stdout",
     "output_type": "stream",
     "text": [
      "<class 'pandas.core.frame.DataFrame'>\n",
      "Index: 17443 entries, 0 to 18740\n",
      "Data columns (total 4 columns):\n",
      " #   Column     Non-Null Count  Dtype \n",
      "---  ------     --------------  ----- \n",
      " 0   mbti       17443 non-null  object\n",
      " 1   enneagram  10920 non-null  object\n",
      " 2   role       17443 non-null  object\n",
      " 3   movie      17443 non-null  object\n",
      "dtypes: object(4)\n",
      "memory usage: 681.4+ KB\n",
      "None\n"
     ]
    }
   ],
   "source": [
    "mbti_df = mbti_df.drop_duplicates(subset=['role', 'movie'], keep='first')\n",
    "colsDrop = ['stat', 'img_url']\n",
    "mbti_df.drop(columns=colsDrop, inplace=True, errors='ignore')\n",
    "# Display information about the unique DataFrame\n",
    "print(mbti_df.info())"
   ]
  },
  {
   "cell_type": "code",
   "execution_count": 205,
   "metadata": {},
   "outputs": [
    {
     "name": "stdout",
     "output_type": "stream",
     "text": [
      "       mbti enneagram                     role  \\\n",
      "0      ESFP       7w6  Peter Quill \"Star-Lord\"   \n",
      "1      ESFP       8w7         Anakin Skywalker   \n",
      "2      ESFP       6w7              Ron Weasley   \n",
      "3      ESFP       7w8      Bellatrix Lestrange   \n",
      "4      ESFP       7w6                    Simba   \n",
      "...     ...       ...                      ...   \n",
      "17438  INTJ       5w4    Dr. Caroline Caldwell   \n",
      "17439  INTJ       5w6                  Richard   \n",
      "17440  XXXX       NaN                     Alfi   \n",
      "17441  INTJ       1w9     Klimek 'The General'   \n",
      "17442  INTJ       NaN              Lily Walker   \n",
      "\n",
      "                                       movie  danceability_mean  energy_mean  \\\n",
      "0                  Marvel Cinematic Universe           0.638366     0.691941   \n",
      "1                                  Star Wars           0.638366     0.691941   \n",
      "2                   Harry Potter (franchise)           0.638366     0.691941   \n",
      "3                   Harry Potter (franchise)           0.638366     0.691941   \n",
      "4                       The Lion King (1994)           0.638366     0.691941   \n",
      "...                                      ...                ...          ...   \n",
      "17438     The Girl with All the Gifts (2016)           0.566374     0.630989   \n",
      "17439                          Eat Pray Love           0.566374     0.630989   \n",
      "17440                       Dignitate (2020)                NaN          NaN   \n",
      "17441                           The Informer           0.566374     0.630989   \n",
      "17442                        Revolver (2005)           0.566374     0.630989   \n",
      "\n",
      "       loudness_mean  mode_mean  speechiness_mean  acousticness_mean  \\\n",
      "0          -6.265767   0.597945          0.083037           0.187097   \n",
      "1          -6.265767   0.597945          0.083037           0.187097   \n",
      "2          -6.265767   0.597945          0.083037           0.187097   \n",
      "3          -6.265767   0.597945          0.083037           0.187097   \n",
      "4          -6.265767   0.597945          0.083037           0.187097   \n",
      "...              ...        ...               ...                ...   \n",
      "17438      -7.368659   0.541247          0.078262           0.241258   \n",
      "17439      -7.368659   0.541247          0.078262           0.241258   \n",
      "17440            NaN        NaN               NaN                NaN   \n",
      "17441      -7.368659   0.541247          0.078262           0.241258   \n",
      "17442      -7.368659   0.541247          0.078262           0.241258   \n",
      "\n",
      "       liveness_mean  valence_mean  tempo_mean  instrumentalness_mean  \n",
      "0           0.188853      0.555461  123.097601               0.041390  \n",
      "1           0.188853      0.555461  123.097601               0.041390  \n",
      "2           0.188853      0.555461  123.097601               0.041390  \n",
      "3           0.188853      0.555461  123.097601               0.041390  \n",
      "4           0.188853      0.555461  123.097601               0.041390  \n",
      "...              ...           ...         ...                    ...  \n",
      "17438       0.177858      0.426475  122.380492               0.122211  \n",
      "17439       0.177858      0.426475  122.380492               0.122211  \n",
      "17440            NaN           NaN         NaN                    NaN  \n",
      "17441       0.177858      0.426475  122.380492               0.122211  \n",
      "17442       0.177858      0.426475  122.380492               0.122211  \n",
      "\n",
      "[17443 rows x 14 columns]\n"
     ]
    }
   ],
   "source": [
    "merged_df = pd.merge(mbti_df, mbti_agg_metrics, on='mbti', how='left')\n",
    "print(merged_df)\n",
    "\n"
   ]
  },
  {
   "cell_type": "code",
   "execution_count": 206,
   "metadata": {},
   "outputs": [
    {
     "name": "stdout",
     "output_type": "stream",
     "text": [
      "Index(['mbti', 'enneagram', 'role', 'movie', 'danceability_mean',\n",
      "       'energy_mean', 'loudness_mean', 'mode_mean', 'speechiness_mean',\n",
      "       'acousticness_mean', 'liveness_mean', 'valence_mean', 'tempo_mean',\n",
      "       'instrumentalness_mean'],\n",
      "      dtype='object')\n"
     ]
    }
   ],
   "source": [
    "print(merged_df.columns)"
   ]
  },
  {
   "cell_type": "code",
   "execution_count": 207,
   "metadata": {},
   "outputs": [],
   "source": [
    "all_genres = pd.read_csv('/Users/meenakshigopalakrishnan/CharacterPlaylistGenerator/charPlaylistGenerator/imdb_genres.csv')"
   ]
  },
  {
   "cell_type": "code",
   "execution_count": 208,
   "metadata": {},
   "outputs": [
    {
     "name": "stdout",
     "output_type": "stream",
     "text": [
      "Index(['movie title - year', 'genre', 'expanded-genres', 'rating',\n",
      "       'description'],\n",
      "      dtype='object')\n"
     ]
    }
   ],
   "source": [
    "print(all_genres.columns)"
   ]
  },
  {
   "cell_type": "code",
   "execution_count": 209,
   "metadata": {},
   "outputs": [],
   "source": [
    "all_genres['movie title - year'] = all_genres['movie title - year'].str.split('-').str[0].str.strip()\n"
   ]
  },
  {
   "cell_type": "code",
   "execution_count": 210,
   "metadata": {},
   "outputs": [
    {
     "name": "stdout",
     "output_type": "stream",
     "text": [
      "                              movie-title             expanded-genres  rating\n",
      "0          Black Panther: Wakanda Forever    Action, Adventure, Drama     6.9\n",
      "1                Avatar: The Way of Water  Action, Adventure, Fantasy     7.8\n",
      "2                                   Plane            Action, Thriller     6.5\n",
      "3       Everything Everywhere All at Once   Action, Adventure, Comedy     8.0\n",
      "5                                     Ant   Action, Adventure, Comedy     6.6\n",
      "...                                   ...                         ...     ...\n",
      "300292                       Surveillance            Horror, Thriller     5.2\n",
      "300298             Il segreto nel segreto     Action, Drama, Thriller     8.2\n",
      "300345                Vedettes al desnudo      Crime, Drama, Thriller     6.1\n",
      "300362                              AK 47            Action, Thriller     5.2\n",
      "300368                             Marika                    Thriller     9.8\n",
      "\n",
      "[190893 rows x 3 columns]\n"
     ]
    }
   ],
   "source": [
    "all_genres = all_genres.rename(columns={'movie title - year': 'movie-title'})\n",
    "all_genres = all_genres.drop(['genre', 'description'], axis=1)\n",
    "all_genres = all_genres[all_genres['rating'] >= 4]\n",
    "\n",
    "print(all_genres)"
   ]
  },
  {
   "cell_type": "code",
   "execution_count": 211,
   "metadata": {},
   "outputs": [],
   "source": [
    "merged_df['processed_movie'] = merged_df['movie'].str.strip().str.lower().str.replace(r'\\s*\\(.*\\)', '', regex=True)\n",
    "all_genres['processed_movie'] = all_genres['movie-title'].str.strip().str.lower()\n"
   ]
  },
  {
   "cell_type": "code",
   "execution_count": 212,
   "metadata": {},
   "outputs": [
    {
     "name": "stdout",
     "output_type": "stream",
     "text": [
      "Index(['mbti', 'enneagram', 'role', 'movie', 'danceability_mean',\n",
      "       'energy_mean', 'loudness_mean', 'mode_mean', 'speechiness_mean',\n",
      "       'acousticness_mean', 'liveness_mean', 'valence_mean', 'tempo_mean',\n",
      "       'instrumentalness_mean', 'processed_movie'],\n",
      "      dtype='object')\n",
      "Index(['movie-title', 'expanded-genres', 'rating', 'processed_movie'], dtype='object')\n"
     ]
    }
   ],
   "source": [
    "print(merged_df.columns)\n",
    "print(all_genres.columns)"
   ]
  },
  {
   "cell_type": "code",
   "execution_count": null,
   "metadata": {},
   "outputs": [],
   "source": []
  },
  {
   "cell_type": "code",
   "execution_count": 213,
   "metadata": {},
   "outputs": [
    {
     "name": "stdout",
     "output_type": "stream",
     "text": [
      "       mbti enneagram                     role                         movie  \\\n",
      "0      ESFP       7w6  Peter Quill \"Star-Lord\"     Marvel Cinematic Universe   \n",
      "1      ESFP       8w7         Anakin Skywalker                     Star Wars   \n",
      "2      ESFP       8w7         Anakin Skywalker                     Star Wars   \n",
      "3      ESFP       8w7         Anakin Skywalker                     Star Wars   \n",
      "4      ESFP       8w7         Anakin Skywalker                     Star Wars   \n",
      "...     ...       ...                      ...                           ...   \n",
      "51618  INTJ       NaN              Lily Walker               Revolver (2005)   \n",
      "51619  INTJ       NaN              Lily Walker               Revolver (2005)   \n",
      "51620  INTJ       NaN              Lily Walker               Revolver (2005)   \n",
      "51621  INTJ       NaN              Lily Walker               Revolver (2005)   \n",
      "51622  INTJ       NaN              Lily Walker               Revolver (2005)   \n",
      "\n",
      "       danceability_mean  energy_mean  loudness_mean  mode_mean  \\\n",
      "0               0.638366     0.691941      -6.265767   0.597945   \n",
      "1               0.638366     0.691941      -6.265767   0.597945   \n",
      "2               0.638366     0.691941      -6.265767   0.597945   \n",
      "3               0.638366     0.691941      -6.265767   0.597945   \n",
      "4               0.638366     0.691941      -6.265767   0.597945   \n",
      "...                  ...          ...            ...        ...   \n",
      "51618           0.566374     0.630989      -7.368659   0.541247   \n",
      "51619           0.566374     0.630989      -7.368659   0.541247   \n",
      "51620           0.566374     0.630989      -7.368659   0.541247   \n",
      "51621           0.566374     0.630989      -7.368659   0.541247   \n",
      "51622           0.566374     0.630989      -7.368659   0.541247   \n",
      "\n",
      "       speechiness_mean  acousticness_mean  liveness_mean  valence_mean  \\\n",
      "0              0.083037           0.187097       0.188853      0.555461   \n",
      "1              0.083037           0.187097       0.188853      0.555461   \n",
      "2              0.083037           0.187097       0.188853      0.555461   \n",
      "3              0.083037           0.187097       0.188853      0.555461   \n",
      "4              0.083037           0.187097       0.188853      0.555461   \n",
      "...                 ...                ...            ...           ...   \n",
      "51618          0.078262           0.241258       0.177858      0.426475   \n",
      "51619          0.078262           0.241258       0.177858      0.426475   \n",
      "51620          0.078262           0.241258       0.177858      0.426475   \n",
      "51621          0.078262           0.241258       0.177858      0.426475   \n",
      "51622          0.078262           0.241258       0.177858      0.426475   \n",
      "\n",
      "       tempo_mean  instrumentalness_mean            processed_movie  \\\n",
      "0      123.097601               0.041390  marvel cinematic universe   \n",
      "1      123.097601               0.041390                  star wars   \n",
      "2      123.097601               0.041390                  star wars   \n",
      "3      123.097601               0.041390                  star wars   \n",
      "4      123.097601               0.041390                  star wars   \n",
      "...           ...                    ...                        ...   \n",
      "51618  122.380492               0.122211                   revolver   \n",
      "51619  122.380492               0.122211                   revolver   \n",
      "51620  122.380492               0.122211                   revolver   \n",
      "51621  122.380492               0.122211                   revolver   \n",
      "51622  122.380492               0.122211                   revolver   \n",
      "\n",
      "      movie-title             expanded-genres  rating  \n",
      "0             NaN                         NaN     NaN  \n",
      "1       Star Wars  Action, Adventure, Fantasy     8.6  \n",
      "2       Star Wars  Action, Adventure, Fantasy     8.6  \n",
      "3       Star Wars  Action, Adventure, Fantasy     8.6  \n",
      "4       Star Wars  Action, Adventure, Fantasy     8.6  \n",
      "...           ...                         ...     ...  \n",
      "51618    Revolver      Crime, Drama, Thriller     7.0  \n",
      "51619    Revolver        Action, Crime, Drama     6.6  \n",
      "51620    Revolver        Action, Crime, Drama     6.3  \n",
      "51621    Revolver        Action, Crime, Drama     6.3  \n",
      "51622    Revolver      Crime, Drama, Thriller     7.0  \n",
      "\n",
      "[51623 rows x 18 columns]\n"
     ]
    }
   ],
   "source": [
    "final_df = pd.merge(merged_df, all_genres, how='left', on='processed_movie')\n",
    "\n",
    "print(final_df)"
   ]
  },
  {
   "cell_type": "code",
   "execution_count": 190,
   "metadata": {},
   "outputs": [
    {
     "name": "stdout",
     "output_type": "stream",
     "text": [
      "Index(['mbti', 'enneagram', 'role', 'movie', 'danceability_mean',\n",
      "       'energy_mean', 'loudness_mean', 'mode_mean', 'speechiness_mean',\n",
      "       'acousticness_mean', 'liveness_mean', 'valence_mean', 'tempo_mean',\n",
      "       'instrumentalness_mean', 'processed_movie', 'movie-title',\n",
      "       'expanded-genres', 'rating'],\n",
      "      dtype='object')\n"
     ]
    }
   ],
   "source": [
    "print(final_df.columns)"
   ]
  },
  {
   "cell_type": "code",
   "execution_count": 216,
   "metadata": {},
   "outputs": [
    {
     "name": "stdout",
     "output_type": "stream",
     "text": [
      "       mbti enneagram                     role                         movie  \\\n",
      "0      ESFP       7w6  Peter Quill \"Star-Lord\"     Marvel Cinematic Universe   \n",
      "1      ESFP       8w7         Anakin Skywalker                     Star Wars   \n",
      "2      ESFP       8w7         Anakin Skywalker                     Star Wars   \n",
      "3      ESFP       8w7         Anakin Skywalker                     Star Wars   \n",
      "4      ESFP       8w7         Anakin Skywalker                     Star Wars   \n",
      "...     ...       ...                      ...                           ...   \n",
      "51618  INTJ       NaN              Lily Walker               Revolver (2005)   \n",
      "51619  INTJ       NaN              Lily Walker               Revolver (2005)   \n",
      "51620  INTJ       NaN              Lily Walker               Revolver (2005)   \n",
      "51621  INTJ       NaN              Lily Walker               Revolver (2005)   \n",
      "51622  INTJ       NaN              Lily Walker               Revolver (2005)   \n",
      "\n",
      "       danceability_mean  energy_mean  loudness_mean  mode_mean  \\\n",
      "0               0.638366     0.691941      -6.265767   0.597945   \n",
      "1               0.638366     0.691941      -6.265767   0.597945   \n",
      "2               0.638366     0.691941      -6.265767   0.597945   \n",
      "3               0.638366     0.691941      -6.265767   0.597945   \n",
      "4               0.638366     0.691941      -6.265767   0.597945   \n",
      "...                  ...          ...            ...        ...   \n",
      "51618           0.566374     0.630989      -7.368659   0.541247   \n",
      "51619           0.566374     0.630989      -7.368659   0.541247   \n",
      "51620           0.566374     0.630989      -7.368659   0.541247   \n",
      "51621           0.566374     0.630989      -7.368659   0.541247   \n",
      "51622           0.566374     0.630989      -7.368659   0.541247   \n",
      "\n",
      "       speechiness_mean  acousticness_mean  liveness_mean  valence_mean  \\\n",
      "0              0.083037           0.187097       0.188853      0.555461   \n",
      "1              0.083037           0.187097       0.188853      0.555461   \n",
      "2              0.083037           0.187097       0.188853      0.555461   \n",
      "3              0.083037           0.187097       0.188853      0.555461   \n",
      "4              0.083037           0.187097       0.188853      0.555461   \n",
      "...                 ...                ...            ...           ...   \n",
      "51618          0.078262           0.241258       0.177858      0.426475   \n",
      "51619          0.078262           0.241258       0.177858      0.426475   \n",
      "51620          0.078262           0.241258       0.177858      0.426475   \n",
      "51621          0.078262           0.241258       0.177858      0.426475   \n",
      "51622          0.078262           0.241258       0.177858      0.426475   \n",
      "\n",
      "       tempo_mean  instrumentalness_mean            processed_movie  \\\n",
      "0      123.097601               0.041390  marvel cinematic universe   \n",
      "1      123.097601               0.041390                  star wars   \n",
      "2      123.097601               0.041390                  star wars   \n",
      "3      123.097601               0.041390                  star wars   \n",
      "4      123.097601               0.041390                  star wars   \n",
      "...           ...                    ...                        ...   \n",
      "51618  122.380492               0.122211                   revolver   \n",
      "51619  122.380492               0.122211                   revolver   \n",
      "51620  122.380492               0.122211                   revolver   \n",
      "51621  122.380492               0.122211                   revolver   \n",
      "51622  122.380492               0.122211                   revolver   \n",
      "\n",
      "      movie-title             expanded-genres  rating  \n",
      "0             NaN                         NaN     NaN  \n",
      "1       Star Wars  Action, Adventure, Fantasy     8.6  \n",
      "2       Star Wars  Action, Adventure, Fantasy     8.6  \n",
      "3       Star Wars  Action, Adventure, Fantasy     8.6  \n",
      "4       Star Wars  Action, Adventure, Fantasy     8.6  \n",
      "...           ...                         ...     ...  \n",
      "51618    Revolver      Crime, Drama, Thriller     7.0  \n",
      "51619    Revolver        Action, Crime, Drama     6.6  \n",
      "51620    Revolver        Action, Crime, Drama     6.3  \n",
      "51621    Revolver        Action, Crime, Drama     6.3  \n",
      "51622    Revolver      Crime, Drama, Thriller     7.0  \n",
      "\n",
      "[51623 rows x 18 columns]\n"
     ]
    }
   ],
   "source": [
    "final_df = final_df.dropna(subset=['role'])\n",
    "print(final_df)"
   ]
  },
  {
   "cell_type": "code",
   "execution_count": 218,
   "metadata": {},
   "outputs": [],
   "source": [
    "final_df = final_df[~((final_df['expanded-genres'].isna()) & (final_df['mbti'] == 'XXXX'))]"
   ]
  },
  {
   "cell_type": "code",
   "execution_count": 219,
   "metadata": {},
   "outputs": [
    {
     "name": "stdout",
     "output_type": "stream",
     "text": [
      "       mbti enneagram                     role                         movie  \\\n",
      "0      ESFP       7w6  Peter Quill \"Star-Lord\"     Marvel Cinematic Universe   \n",
      "1      ESFP       8w7         Anakin Skywalker                     Star Wars   \n",
      "2      ESFP       8w7         Anakin Skywalker                     Star Wars   \n",
      "3      ESFP       8w7         Anakin Skywalker                     Star Wars   \n",
      "4      ESFP       8w7         Anakin Skywalker                     Star Wars   \n",
      "...     ...       ...                      ...                           ...   \n",
      "51618  INTJ       NaN              Lily Walker               Revolver (2005)   \n",
      "51619  INTJ       NaN              Lily Walker               Revolver (2005)   \n",
      "51620  INTJ       NaN              Lily Walker               Revolver (2005)   \n",
      "51621  INTJ       NaN              Lily Walker               Revolver (2005)   \n",
      "51622  INTJ       NaN              Lily Walker               Revolver (2005)   \n",
      "\n",
      "       danceability_mean  energy_mean  loudness_mean  mode_mean  \\\n",
      "0               0.638366     0.691941      -6.265767   0.597945   \n",
      "1               0.638366     0.691941      -6.265767   0.597945   \n",
      "2               0.638366     0.691941      -6.265767   0.597945   \n",
      "3               0.638366     0.691941      -6.265767   0.597945   \n",
      "4               0.638366     0.691941      -6.265767   0.597945   \n",
      "...                  ...          ...            ...        ...   \n",
      "51618           0.566374     0.630989      -7.368659   0.541247   \n",
      "51619           0.566374     0.630989      -7.368659   0.541247   \n",
      "51620           0.566374     0.630989      -7.368659   0.541247   \n",
      "51621           0.566374     0.630989      -7.368659   0.541247   \n",
      "51622           0.566374     0.630989      -7.368659   0.541247   \n",
      "\n",
      "       speechiness_mean  acousticness_mean  liveness_mean  valence_mean  \\\n",
      "0              0.083037           0.187097       0.188853      0.555461   \n",
      "1              0.083037           0.187097       0.188853      0.555461   \n",
      "2              0.083037           0.187097       0.188853      0.555461   \n",
      "3              0.083037           0.187097       0.188853      0.555461   \n",
      "4              0.083037           0.187097       0.188853      0.555461   \n",
      "...                 ...                ...            ...           ...   \n",
      "51618          0.078262           0.241258       0.177858      0.426475   \n",
      "51619          0.078262           0.241258       0.177858      0.426475   \n",
      "51620          0.078262           0.241258       0.177858      0.426475   \n",
      "51621          0.078262           0.241258       0.177858      0.426475   \n",
      "51622          0.078262           0.241258       0.177858      0.426475   \n",
      "\n",
      "       tempo_mean  instrumentalness_mean            processed_movie  \\\n",
      "0      123.097601               0.041390  marvel cinematic universe   \n",
      "1      123.097601               0.041390                  star wars   \n",
      "2      123.097601               0.041390                  star wars   \n",
      "3      123.097601               0.041390                  star wars   \n",
      "4      123.097601               0.041390                  star wars   \n",
      "...           ...                    ...                        ...   \n",
      "51618  122.380492               0.122211                   revolver   \n",
      "51619  122.380492               0.122211                   revolver   \n",
      "51620  122.380492               0.122211                   revolver   \n",
      "51621  122.380492               0.122211                   revolver   \n",
      "51622  122.380492               0.122211                   revolver   \n",
      "\n",
      "      movie-title             expanded-genres  rating  \n",
      "0             NaN                         NaN     NaN  \n",
      "1       Star Wars  Action, Adventure, Fantasy     8.6  \n",
      "2       Star Wars  Action, Adventure, Fantasy     8.6  \n",
      "3       Star Wars  Action, Adventure, Fantasy     8.6  \n",
      "4       Star Wars  Action, Adventure, Fantasy     8.6  \n",
      "...           ...                         ...     ...  \n",
      "51618    Revolver      Crime, Drama, Thriller     7.0  \n",
      "51619    Revolver        Action, Crime, Drama     6.6  \n",
      "51620    Revolver        Action, Crime, Drama     6.3  \n",
      "51621    Revolver        Action, Crime, Drama     6.3  \n",
      "51622    Revolver      Crime, Drama, Thriller     7.0  \n",
      "\n",
      "[51459 rows x 18 columns]\n"
     ]
    }
   ],
   "source": [
    "print(final_df)"
   ]
  },
  {
   "cell_type": "code",
   "execution_count": 225,
   "metadata": {},
   "outputs": [],
   "source": [
    "final_df = final_df.drop(['movie-title', 'rating', 'enneagram'], axis=1)"
   ]
  },
  {
   "cell_type": "code",
   "execution_count": 227,
   "metadata": {},
   "outputs": [
    {
     "name": "stdout",
     "output_type": "stream",
     "text": [
      "       mbti                     role                         movie  \\\n",
      "0      ESFP  Peter Quill \"Star-Lord\"     Marvel Cinematic Universe   \n",
      "1      ESFP         Anakin Skywalker                     Star Wars   \n",
      "5      ESFP              Ron Weasley      Harry Potter (franchise)   \n",
      "6      ESFP      Bellatrix Lestrange      Harry Potter (franchise)   \n",
      "7      ESFP                    Simba          The Lion King (1994)   \n",
      "...     ...                      ...                           ...   \n",
      "51610  INTJ     Klimek 'The General'                  The Informer   \n",
      "51612  INTJ     Klimek 'The General'                  The Informer   \n",
      "51614  INTJ     Klimek 'The General'                  The Informer   \n",
      "51615  INTJ              Lily Walker               Revolver (2005)   \n",
      "51618  INTJ              Lily Walker               Revolver (2005)   \n",
      "\n",
      "       danceability_mean  energy_mean  loudness_mean  mode_mean  \\\n",
      "0               0.638366     0.691941      -6.265767   0.597945   \n",
      "1               0.638366     0.691941      -6.265767   0.597945   \n",
      "5               0.638366     0.691941      -6.265767   0.597945   \n",
      "6               0.638366     0.691941      -6.265767   0.597945   \n",
      "7               0.638366     0.691941      -6.265767   0.597945   \n",
      "...                  ...          ...            ...        ...   \n",
      "51610           0.566374     0.630989      -7.368659   0.541247   \n",
      "51612           0.566374     0.630989      -7.368659   0.541247   \n",
      "51614           0.566374     0.630989      -7.368659   0.541247   \n",
      "51615           0.566374     0.630989      -7.368659   0.541247   \n",
      "51618           0.566374     0.630989      -7.368659   0.541247   \n",
      "\n",
      "       speechiness_mean  acousticness_mean  liveness_mean  valence_mean  \\\n",
      "0              0.083037           0.187097       0.188853      0.555461   \n",
      "1              0.083037           0.187097       0.188853      0.555461   \n",
      "5              0.083037           0.187097       0.188853      0.555461   \n",
      "6              0.083037           0.187097       0.188853      0.555461   \n",
      "7              0.083037           0.187097       0.188853      0.555461   \n",
      "...                 ...                ...            ...           ...   \n",
      "51610          0.078262           0.241258       0.177858      0.426475   \n",
      "51612          0.078262           0.241258       0.177858      0.426475   \n",
      "51614          0.078262           0.241258       0.177858      0.426475   \n",
      "51615          0.078262           0.241258       0.177858      0.426475   \n",
      "51618          0.078262           0.241258       0.177858      0.426475   \n",
      "\n",
      "       tempo_mean  instrumentalness_mean            processed_movie  \\\n",
      "0      123.097601               0.041390  marvel cinematic universe   \n",
      "1      123.097601               0.041390                  star wars   \n",
      "5      123.097601               0.041390               harry potter   \n",
      "6      123.097601               0.041390               harry potter   \n",
      "7      123.097601               0.041390              the lion king   \n",
      "...           ...                    ...                        ...   \n",
      "51610  122.380492               0.122211               the informer   \n",
      "51612  122.380492               0.122211               the informer   \n",
      "51614  122.380492               0.122211               the informer   \n",
      "51615  122.380492               0.122211                   revolver   \n",
      "51618  122.380492               0.122211                   revolver   \n",
      "\n",
      "                   expanded-genres  \n",
      "0                              NaN  \n",
      "1       Action, Adventure, Fantasy  \n",
      "5                              NaN  \n",
      "6                              NaN  \n",
      "7      Animation, Adventure, Drama  \n",
      "...                            ...  \n",
      "51610         Action, Crime, Drama  \n",
      "51612                 Crime, Drama  \n",
      "51614                     Thriller  \n",
      "51615         Action, Crime, Drama  \n",
      "51618       Crime, Drama, Thriller  \n",
      "\n",
      "[23076 rows x 15 columns]\n"
     ]
    }
   ],
   "source": [
    "final_df = final_df.drop_duplicates()\n",
    "print(final_df)"
   ]
  },
  {
   "cell_type": "code",
   "execution_count": 230,
   "metadata": {},
   "outputs": [
    {
     "name": "stdout",
     "output_type": "stream",
     "text": [
      "Index(['mbti', 'role', 'movie', 'danceability_mean', 'energy_mean',\n",
      "       'loudness_mean', 'mode_mean', 'speechiness_mean', 'acousticness_mean',\n",
      "       'liveness_mean', 'valence_mean', 'tempo_mean', 'instrumentalness_mean',\n",
      "       'processed_movie', 'expanded-genres'],\n",
      "      dtype='object')\n"
     ]
    }
   ],
   "source": [
    "print(final_df.columns)"
   ]
  },
  {
   "cell_type": "code",
   "execution_count": 228,
   "metadata": {},
   "outputs": [],
   "source": [
    "final_df.to_csv('final_df.csv', index=False)"
   ]
  },
  {
   "cell_type": "code",
   "execution_count": 229,
   "metadata": {},
   "outputs": [
    {
     "name": "stdout",
     "output_type": "stream",
     "text": [
      "[nan 'Action, Adventure, Fantasy' 'Animation, Adventure, Drama'\n",
      " 'Animation, Adventure, Comedy' 'Animation, Action, Adventure'\n",
      " 'Action, Drama, History' 'Adventure' 'Family' 'Drama, History, Romance'\n",
      " 'History' 'Drama, Romance' 'Adventure, Comedy, Family'\n",
      " 'Adventure, Comedy, Fantasy' 'Drama, Musical, Romance'\n",
      " 'Adventure, Comedy, Sci-Fi' 'Horror' 'Animation, Adventure, Fantasy'\n",
      " 'Action, Adventure, Sci-Fi' 'Crime, Drama' 'Comedy, Drama, Romance'\n",
      " 'Crime, Drama, Mystery' 'Comedy, Crime' 'Action, Adventure, Comedy'\n",
      " 'Adventure, Family, Fantasy' 'Animation, Family, Fantasy'\n",
      " 'Drama, Family, Fantasy' 'Drama, Fantasy, Romance'\n",
      " 'Fantasy, Horror, Mystery' 'Family, Fantasy, Musical'\n",
      " 'Family, Fantasy, Horror' 'Crime, Drama, Thriller'\n",
      " 'Adventure, Drama, Family' 'Adventure, Family, Romance' 'Animation'\n",
      " 'Comedy, Romance' 'Animation, Action, Comedy' 'Animation, Drama, Family'\n",
      " 'Biography, Drama, Music' 'Action, Drama, War' 'Drama, Music, Mystery'\n",
      " 'Comedy, Horror, Musical' 'Action, Crime, Drama'\n",
      " 'Comedy, Family, Fantasy' 'Fantasy, Drama' 'Fantasy' 'Drama, Horror'\n",
      " 'Horror, Thriller' 'Adventure, Drama, War' 'Adventure, Drama, Fantasy'\n",
      " 'Crime, Drama, Romance' 'Crime, Sci-Fi' 'Adventure, Comedy, Crime'\n",
      " 'Action, Crime, Thriller' 'Crime, Drama, Film-Noir'\n",
      " 'Animation, Family, Adventure' 'Comedy, Horror, Mystery'\n",
      " 'Biography, Comedy, Drama' 'Action' 'Comedy, Musical, Romance'\n",
      " 'Action, Comedy, Fantasy' 'Drama, Horror, Thriller' 'Musical, Romance'\n",
      " 'Romance' 'Horror, Mystery, Thriller' 'Drama, Family, Romance'\n",
      " 'Crime, Thriller' 'Action, Adventure, Drama' 'Comedy, Family, Romance'\n",
      " 'Animation, Adventure, Family' 'Fantasy, Musical' 'Family, Fantasy'\n",
      " 'Biography, Comedy, Crime' 'Comedy, Fantasy, Horror' 'Adventure, Romance'\n",
      " 'Comedy, Fantasy' 'Animation, Comedy, Family' 'Horror, Sci-Fi'\n",
      " 'Action, Comedy, Crime' 'Drama, Thriller' 'Action, Comedy, Horror'\n",
      " 'Crime, Drama, Horror' 'Crime, Drama, Fantasy' 'Crime, Fantasy, Thriller'\n",
      " 'Biography, Crime, Drama' 'Drama, Mystery, Thriller'\n",
      " 'Drama, Horror, Mystery' 'Horror, Mystery, Sci-Fi' 'Drama, Fantasy'\n",
      " 'Comedy, Music, Romance' 'Action, Biography, Drama' 'Adventure, Sci-Fi'\n",
      " 'Comedy, Drama, Musical' 'Horror, Mystery' 'Biography, Drama, History'\n",
      " 'Adventure, Drama, Mystery' 'Thriller' 'Drama, Mystery, Sci-Fi'\n",
      " 'Comedy, Horror, Thriller' 'Comedy, Drama, Fantasy'\n",
      " 'Comedy, Drama, Music' 'Adventure, Comedy, Drama' 'Drama, Romance, War'\n",
      " 'Action, Comedy, War' 'Adventure, Drama, Horror' 'Adventure, Horror'\n",
      " 'Adventure, Horror, Sci-Fi' 'Comedy, Drama, Family'\n",
      " 'Action, Drama, Sci-Fi' 'Drama, Mystery' 'Drama, Romance, Thriller'\n",
      " 'Drama, Horror, Sci-Fi' 'Crime, Horror, Mystery' 'Action, Thriller'\n",
      " 'Biography, Comedy' 'Drama, History' 'Drama, Family'\n",
      " 'Action, Drama, Thriller' 'Crime, Horror, Thriller'\n",
      " 'Horror, Sci-Fi, Thriller' 'Comedy, Crime, Drama'\n",
      " 'Action, Drama, Romance' 'Drama, War' 'Drama, Mystery, Romance'\n",
      " 'Action, Western' 'Adventure, Drama' 'Biography, Drama'\n",
      " 'Comedy, Drama, Sport' 'Drama, Romance, Family' 'Action, Adventure'\n",
      " 'Action, Crime, Family' 'Comedy, Drama, Sci-Fi'\n",
      " 'Adventure, Drama, Romance' 'Fantasy, Horror, Thriller'\n",
      " 'Comedy, Family, Music' 'Action, Comedy' 'Action, Drama, Sport'\n",
      " 'Comedy, Sport' 'Sci-Fi, Thriller' 'Animation, Thriller'\n",
      " 'Drama, Film-Noir, Sport' 'Drama, Music, Romance' 'Action, Comedy, Drama'\n",
      " 'Mystery, Thriller' 'Drama, Mystery, Western' 'Adventure, Comedy'\n",
      " 'Action, Drama' 'Drama, Fantasy, Mystery' 'Drama, Romance, Sci-Fi'\n",
      " 'Action, Biography, Crime' 'Crime, Mystery, Thriller' 'Comedy, Horror'\n",
      " 'Mystery, Sci-Fi, Thriller' 'Action, Sci-Fi, Thriller' 'Sci-Fi'\n",
      " 'Action, Adventure, Family' 'Drama, History, Thriller'\n",
      " 'Horror, Musical, Sci-Fi' 'Drama, Horror, Romance'\n",
      " 'Action, Crime, Sci-Fi' 'Biography, Drama, Fantasy'\n",
      " 'Comedy, Music, Musical' 'Fantasy, Action, Comedy'\n",
      " 'Action, Comedy, Family' 'Action, Adventure, Crime'\n",
      " 'Comedy, Drama, History' 'Horror, Romance, Thriller'\n",
      " 'Comedy, Fantasy, Romance' 'Action, Drama, Mystery' 'Drama, Sci-Fi'\n",
      " 'Comedy, Mystery' 'Comedy, Crime, Mystery' 'Drama, Film-Noir, Mystery'\n",
      " 'Biography, Drama, Romance' 'Action, Adventure, Horror'\n",
      " 'Comedy, Horror, Sci-Fi' 'Crime, Horror' 'Comedy, Crime, Thriller' 'War'\n",
      " 'Drama, Family, Musical' 'Mystery' 'Adventure, Comedy, Music'\n",
      " 'Comedy, Family' 'Animation, Comedy, Fantasy' 'Comedy, Romance, Sport'\n",
      " 'Drama, Thriller, War' 'Drama, Crime' 'Biography, Drama, Family'\n",
      " 'Comedy, Fantasy, Music' 'Action, Adventure, Thriller'\n",
      " 'Adventure, Comedy, Musical' 'Crime, Drama, Musical' 'Drama, Sport'\n",
      " 'Action, Romance' 'Sport' 'Drama, Fantasy, Horror'\n",
      " 'Comedy, Family, Western' 'Action, Mystery, Sci-Fi'\n",
      " 'Drama, Thriller, Western' 'Comedy, Family, Musical' 'Animation, Musical'\n",
      " 'Drama, Fantasy, History' 'Music, Musical, Romance'\n",
      " 'Drama, Family, Sport' 'Comedy, Drama, Thriller' 'Romance, Drama'\n",
      " 'Drama, Family, History' 'Action, Fantasy, Horror'\n",
      " 'Animation, Adventure, Music' 'Comedy, Sci-Fi'\n",
      " 'Family, Adventure, Animation' 'Drama, Family, Sci-Fi'\n",
      " 'Fantasy, Thriller' 'Drama, Fantasy, Musical' 'Animation, Drama, Fantasy'\n",
      " 'Action, Comedy, Romance' 'Comedy, Crime, Fantasy'\n",
      " 'Adventure, Biography, War' 'Adventure, Drama, Sci-Fi'\n",
      " 'Animation, Family, Sci-Fi' 'Animation, Comedy, Drama'\n",
      " 'Comedy, Crime, Romance' 'Adventure, Fantasy, History'\n",
      " 'Action, Adventure, Mystery' 'Drama, Horror, Musical'\n",
      " 'Comedy, Drama, War' 'Mystery, Romance, Thriller' 'Drama, Romance, Sport'\n",
      " 'Biography, Drama, Thriller' 'Crime, Mystery' 'Drama, Fantasy, Music'\n",
      " 'Comedy, Music, Thriller' 'Biography, Drama, Musical'\n",
      " 'Comedy, Family, Sci-Fi' 'Biography, Drama, Sport'\n",
      " 'Action, Drama, Family' 'Adventure, Mystery, Thriller'\n",
      " 'Adventure, Comedy, Romance' 'Comedy, Romance, Sci-Fi'\n",
      " 'Action, Adventure, Biography' 'Comedy, Crime, Music'\n",
      " 'Action, Horror, Sci-Fi' 'Animation, Drama, Mystery'\n",
      " 'Action, Romance, Thriller' 'Drama, Fantasy, Sci-Fi' 'Action, Horror'\n",
      " 'Comedy, Crime, Family' 'Action, Crime' 'Drama, Horror, Western'\n",
      " 'Fantasy, Mystery, Sci-Fi' 'Family, History, Musical'\n",
      " 'Action, Comedy, Thriller' 'Action, Crime, Mystery'\n",
      " 'Action, Drama, Music' 'Romance, Thriller' 'Drama, Fantasy, Sport'\n",
      " 'Adventure, Thriller' 'Animation, Drama, War' 'Comedy, Family, Sport'\n",
      " 'Drama, Horror, Music' 'Comedy, Mystery, Romance'\n",
      " 'Adventure, Drama, Music' 'Adventure, Music, Mystery'\n",
      " 'Fantasy, Mystery, Romance' 'Comedy, Drama, Horror'\n",
      " 'Drama, Comedy, Family' 'Musical, Comedy, Drama' 'Fantasy, Horror'\n",
      " 'Action, Horror, Thriller' 'Comedy, Thriller' 'Fantasy, Horror, Sci-Fi'\n",
      " 'Crime, Mystery, Drama' 'Adventure, Crime, Drama' 'Crime, Drama, Sport'\n",
      " 'Action, Drama, Fantasy' 'Action, Crime, Horror' 'Family, Comedy'\n",
      " 'Crime, Drama, History' 'Adventure, Family, Western'\n",
      " 'Crime, Drama, Sci-Fi' 'Action, Fantasy, Thriller' 'Romance, Comedy'\n",
      " 'Action, Adventure, Western' 'Adventure, Comedy, History'\n",
      " 'Drama, History, War' 'Action, Adventure, Romance'\n",
      " 'Biography, Drama, Horror' 'Adventure, Drama, Thriller'\n",
      " 'Comedy, Crime, Sci-Fi' 'Drama, Sci-Fi, Thriller'\n",
      " 'Musical, Drama, Romance' 'Adventure, Drama, Western'\n",
      " 'Adventure, Drama, History' 'Crime, Drama, Music' 'Crime, Drama, Family'\n",
      " 'Drama, Film-Noir, Romance' 'Adventure, History, Romance'\n",
      " 'Action, Horror, Western' 'Romance, Sci-Fi' 'Drama, Fantasy, War'\n",
      " 'Crime, Drama, War' 'Drama, Mystery, War' 'Comedy, Fantasy, Mystery'\n",
      " 'Action, Fantasy, Musical' 'Comedy, Horror, Romance'\n",
      " 'Music, Drama, Romance' 'Drama, Film-Noir, Thriller'\n",
      " 'Comedy, Drama, Mystery' 'Film-Noir, Mystery, Thriller'\n",
      " 'Romance, Sci-Fi, Thriller' 'Mystery, Thriller, Drama'\n",
      " 'Film-Noir, Thriller' 'Adventure, Animation, Family'\n",
      " 'Biography, Drama, War' 'Thriller, Crime, Drama'\n",
      " 'Adventure, Biography, Drama' 'Biography' 'Adventure, Fantasy, Romance'\n",
      " 'Animation, Drama' 'Drama, Music, Musical' 'Comedy, War'\n",
      " 'Adventure, Musical, Family' 'Adventure, Family' 'Drama, Family, Western'\n",
      " 'Animation, Comedy, Crime' 'Animation, Family' 'Action, History'\n",
      " 'Drama, Sport, Thriller' 'Adventure, Biography, Crime' 'War, Drama'\n",
      " 'Comedy, Mystery, Thriller' 'Thriller, Comedy' 'Crime, Horror, Western'\n",
      " 'Adventure, Horror, Mystery' 'Crime' 'Drama, Fantasy, Thriller'\n",
      " 'Crime, Film-Noir, Mystery' 'Drama, Thriller, Crime'\n",
      " 'Crime, Horror, Romance' 'Comedy, History' 'Action, Adventure, History'\n",
      " 'Crime, Musical, Mystery' 'Action, Crime, Fantasy'\n",
      " 'Adventure, Romance, Sci-Fi' 'Drama, Family, Music'\n",
      " 'Action, Mystery, Thriller' 'Action, War' 'Action, Musical, Romance'\n",
      " 'Action, Sci-Fi' 'Animation, Action, Crime' 'Animation, Action, Sci-Fi'\n",
      " 'Drama, History, Sport' 'Crime, Horror, Sci-Fi' 'Adventure, Comedy, War'\n",
      " 'Biography, Comedy, Music' 'Animation, Adventure, Biography'\n",
      " 'Adventure, Fantasy, Sci-Fi' 'Action, Drama, Horror' 'Comedy, Action'\n",
      " 'Action, Adventure, War' 'Adventure, Mystery, Sci-Fi' 'Action, Mystery'\n",
      " 'Mystery, Romance' 'Adventure, Drama, Sport' 'Action, Comedy, Sci-Fi'\n",
      " 'Action, Horror, Mystery']\n"
     ]
    }
   ],
   "source": [
    "unique_values = final_df['expanded-genres'].unique()\n",
    "print(unique_values)\n"
   ]
  },
  {
   "cell_type": "code",
   "execution_count": 44,
   "metadata": {},
   "outputs": [],
   "source": [
    "millmusic = pd.read_csv('/Users/meenakshigopalakrishnan/CharacterPlaylistGenerator/charPlaylistGenerator/millionmusic.csv')"
   ]
  },
  {
   "cell_type": "code",
   "execution_count": 48,
   "metadata": {},
   "outputs": [
    {
     "name": "stdout",
     "output_type": "stream",
     "text": [
      "Index(['track_id', 'artists', 'album_name', 'track_name', 'popularity',\n",
      "       'danceability', 'energy', 'key', 'loudness', 'mode', 'speechiness',\n",
      "       'acousticness', 'instrumentalness', 'liveness', 'valence', 'tempo',\n",
      "       'track_genre'],\n",
      "      dtype='object')\n"
     ]
    }
   ],
   "source": [
    "millmusic.drop(['Unnamed: 0', 'duration_ms', 'explicit', 'time_signature'], axis=1, inplace=True)\n",
    "print(millmusic.columns)"
   ]
  },
  {
   "cell_type": "code",
   "execution_count": 52,
   "metadata": {},
   "outputs": [
    {
     "name": "stdout",
     "output_type": "stream",
     "text": [
      "['acoustic' 'afrobeat' 'alt-rock' 'alternative' 'ambient' 'anime'\n",
      " 'black-metal' 'bluegrass' 'blues' 'brazil' 'breakbeat' 'british'\n",
      " 'cantopop' 'chicago-house' 'children' 'chill' 'classical' 'club' 'comedy'\n",
      " 'country' 'dance' 'dancehall' 'death-metal' 'deep-house' 'detroit-techno'\n",
      " 'disco' 'disney' 'drum-and-bass' 'dub' 'dubstep' 'edm' 'electro'\n",
      " 'electronic' 'emo' 'folk' 'forro' 'french' 'funk' 'garage' 'german'\n",
      " 'gospel' 'goth' 'grindcore' 'groove' 'grunge' 'guitar' 'happy'\n",
      " 'hard-rock' 'hardcore' 'hardstyle' 'heavy-metal' 'hip-hop' 'honky-tonk'\n",
      " 'house' 'idm' 'indian' 'indie-pop' 'indie' 'industrial' 'iranian'\n",
      " 'j-dance' 'j-idol' 'j-pop' 'j-rock' 'jazz' 'k-pop' 'kids' 'latin'\n",
      " 'latino' 'malay' 'mandopop' 'metal' 'metalcore' 'minimal-techno' 'mpb'\n",
      " 'new-age' 'opera' 'pagode' 'party' 'piano' 'pop-film' 'pop' 'power-pop'\n",
      " 'progressive-house' 'psych-rock' 'punk-rock' 'punk' 'r-n-b' 'reggae'\n",
      " 'reggaeton' 'rock-n-roll' 'rock' 'rockabilly' 'romance' 'sad' 'salsa'\n",
      " 'samba' 'sertanejo' 'show-tunes' 'singer-songwriter' 'ska' 'sleep'\n",
      " 'songwriter' 'soul' 'spanish' 'study' 'swedish' 'synth-pop' 'tango'\n",
      " 'techno' 'trance' 'trip-hop' 'turkish' 'world-music']\n"
     ]
    }
   ],
   "source": [
    "unique_music_genres = millmusic['track_genre'].unique()\n",
    "print(unique_music_genres)"
   ]
  },
  {
   "cell_type": "code",
   "execution_count": 247,
   "metadata": {},
   "outputs": [],
   "source": [
    "genre_mapping = {\n",
    "    'Biography': {'classical', 'jazz', 'soul', 'folk', 'blues', 'country', 'pop', 'rock'},\n",
    "    'Horror': {'dark-ambient', 'death-metal', 'black-metal', 'goth', 'industrial', 'noise', 'ambient', 'disco'},\n",
    "    'Musical': {'musical', 'show-tunes', 'opera', 'piano', 'singer-songwriter', 'soul', 'jazz', 'pop'},\n",
    "    'Music': {'pop', 'rock', 'jazz', 'soul', 'blues', 'country', 'classical', 'electronic'},\n",
    "    'Crime': {'jazz', 'blues', 'soul', 'hip-hop', 'reggae', 'rock', 'pop', 'electronic'},\n",
    "    'Drama': {'indie', 'folk', 'acoustic', 'singer-songwriter', 'pop', 'rock', 'jazz', 'blues'},\n",
    "    'Adventure': {'world-music', 'ambient', 'folk', 'classical', 'jazz', 'rock', 'pop', 'electronic'},\n",
    "    'Sci-Fi': {'electronic', 'synth-pop', 'techno', 'trance', 'ambient', 'dubstep', 'edm', 'house'},\n",
    "    'Mystery': {'ambient', 'electronic', 'downtempo', 'trip-hop', 'chill', 'jazz', 'blues', 'soul'},\n",
    "    'War': {'military-cadence', 'patriotic', 'march', 'classical', 'folk', 'rock', 'pop', 'country'},\n",
    "    'Action': {'rock', 'metal', 'hard-rock', 'punk', 'electronic', 'edm', 'dubstep', 'techno'},\n",
    "    'Film-Noir': {'jazz-noir', 'blues-noir', 'vintage-jazz', 'dark-jazz', 'downtempo', 'trip-hop', 'chill', 'ambient'},\n",
    "    'Fantasy': {'epic', 'orchestral', 'celtic', 'medieval', 'folk', 'ambient', 'symphonic-metal', 'new-age'},\n",
    "    'Western': {'country', 'bluegrass', 'folk', 'rock', 'blues', 'pop', 'jazz', 'soul'},\n",
    "    'Sport': {'rock', 'electronic', 'edm', 'house', 'pop', 'hip-hop', 'reggae', 'techno'},\n",
    "    'Thriller': {'electronic', 'dubstep', 'techno', 'trance', 'ambient', 'dark-ambient', 'edm', 'house'},\n",
    "    'Comedy': {'comedy', 'parody', 'funny', 'novelty', 'pop', 'rock', 'hip-hop', 'electronic'},\n",
    "    'History': {'classical', 'folk', 'pop', 'rock', 'jazz', 'blues', 'country', 'world-music'},\n",
    "    'Reality-TV': {'pop', 'rock', 'hip-hop', 'electronic', 'edm', 'dubstep', 'techno', 'house'},\n",
    "    'Romance': {'romance', 'love', 'pop', 'rock', 'jazz', 'blues', 'soul', 'country'},\n",
    "    'Family': {'kids', 'children', 'pop', 'rock', 'jazz', 'blues', 'soul', 'country'}\n",
    "}"
   ]
  },
  {
   "cell_type": "code",
   "execution_count": 248,
   "metadata": {},
   "outputs": [],
   "source": [
    "def movie_music_genres(movie_genre):\n",
    "    if isinstance(movie_genre, str):\n",
    "        genres = movie_genre.split(\", \")\n",
    "        music_genres = set()\n",
    "        for genre in genres:\n",
    "            if genre in genre_mapping:\n",
    "                music_genres.update(genre_mapping[genre])\n",
    "        return \",\".join(music_genres)\n",
    "    else:\n",
    "        return \"\""
   ]
  },
  {
   "cell_type": "code",
   "execution_count": 249,
   "metadata": {},
   "outputs": [],
   "source": [
    "import csv"
   ]
  },
  {
   "cell_type": "code",
   "execution_count": 250,
   "metadata": {},
   "outputs": [],
   "source": [
    "with open(\"movie_music_genres.csv\", \"w\", newline=\"\") as csvfile:\n",
    "    writer = csv.writer(csvfile)\n",
    "    writer.writerow([\"Movie Genre\", \"Associated Music Genres\"])\n",
    "\n",
    "    for movie_genre in unique_values:\n",
    "        music_genre = movie_music_genres(movie_genre)\n",
    "        writer.writerow([movie_genre, music_genre])"
   ]
  },
  {
   "cell_type": "code",
   "execution_count": 262,
   "metadata": {},
   "outputs": [
    {
     "name": "stdout",
     "output_type": "stream",
     "text": [
      "Index(['Movie Genre', 'Associated Music Genres'], dtype='object')\n"
     ]
    }
   ],
   "source": [
    "movie_music_genres_df = pd.read_csv('/Users/meenakshigopalakrishnan/CharacterPlaylistGenerator/charPlaylistGenerator/movie_music_genres.csv')\n",
    "print(movie_music_genres.columns)"
   ]
  },
  {
   "cell_type": "code",
   "execution_count": 265,
   "metadata": {},
   "outputs": [
    {
     "name": "stdout",
     "output_type": "stream",
     "text": [
      "                      Movie Genre  \\\n",
      "0                             NaN   \n",
      "1      Action, Adventure, Fantasy   \n",
      "2     Animation, Adventure, Drama   \n",
      "3    Animation, Adventure, Comedy   \n",
      "4    Animation, Action, Adventure   \n",
      "..                            ...   \n",
      "360               Action, Mystery   \n",
      "361              Mystery, Romance   \n",
      "362       Adventure, Drama, Sport   \n",
      "363        Action, Comedy, Sci-Fi   \n",
      "364       Action, Horror, Mystery   \n",
      "\n",
      "                               Associated Music Genres  \n",
      "0                                                  NaN  \n",
      "1    punk,techno,ambient,classical,celtic,edm,rock,...  \n",
      "2    pop,world-music,ambient,folk,jazz,classical,el...  \n",
      "3    pop,world-music,novelty,parody,ambient,folk,ja...  \n",
      "4    pop,punk,world-music,dubstep,metal,electronic,...  \n",
      "..                                                 ...  \n",
      "360  punk,dubstep,metal,electronic,techno,ambient,j...  \n",
      "361  pop,country,ambient,electronic,jazz,soul,chill...  \n",
      "362  ambient,techno,classical,blues,edm,singer-song...  \n",
      "363  punk,parody,techno,ambient,funny,edm,rock,hard...  \n",
      "364  death-metal,punk,techno,ambient,soul,edm,blues...  \n",
      "\n",
      "[365 rows x 2 columns]\n"
     ]
    }
   ],
   "source": [
    "movie_music_genres_df.dtypes\n",
    "final_df.dtypes\n",
    "print(movie_music_genres_df)"
   ]
  },
  {
   "cell_type": "code",
   "execution_count": 287,
   "metadata": {},
   "outputs": [
    {
     "name": "stdout",
     "output_type": "stream",
     "text": [
      "       mbti                     role                         movie  \\\n",
      "0      ESFP  Peter Quill \"Star-Lord\"     Marvel Cinematic Universe   \n",
      "1      ESFP         Anakin Skywalker                     Star Wars   \n",
      "2      ESFP              Ron Weasley      Harry Potter (franchise)   \n",
      "3      ESFP      Bellatrix Lestrange      Harry Potter (franchise)   \n",
      "4      ESFP                    Simba          The Lion King (1994)   \n",
      "...     ...                      ...                           ...   \n",
      "23071  INTJ     Klimek 'The General'                  The Informer   \n",
      "23072  INTJ     Klimek 'The General'                  The Informer   \n",
      "23073  INTJ     Klimek 'The General'                  The Informer   \n",
      "23074  INTJ              Lily Walker               Revolver (2005)   \n",
      "23075  INTJ              Lily Walker               Revolver (2005)   \n",
      "\n",
      "       danceability_mean  energy_mean  loudness_mean  mode_mean  \\\n",
      "0               0.638366     0.691941      -6.265767   0.597945   \n",
      "1               0.638366     0.691941      -6.265767   0.597945   \n",
      "2               0.638366     0.691941      -6.265767   0.597945   \n",
      "3               0.638366     0.691941      -6.265767   0.597945   \n",
      "4               0.638366     0.691941      -6.265767   0.597945   \n",
      "...                  ...          ...            ...        ...   \n",
      "23071           0.566374     0.630989      -7.368659   0.541247   \n",
      "23072           0.566374     0.630989      -7.368659   0.541247   \n",
      "23073           0.566374     0.630989      -7.368659   0.541247   \n",
      "23074           0.566374     0.630989      -7.368659   0.541247   \n",
      "23075           0.566374     0.630989      -7.368659   0.541247   \n",
      "\n",
      "       speechiness_mean  acousticness_mean  liveness_mean  valence_mean  \\\n",
      "0              0.083037           0.187097       0.188853      0.555461   \n",
      "1              0.083037           0.187097       0.188853      0.555461   \n",
      "2              0.083037           0.187097       0.188853      0.555461   \n",
      "3              0.083037           0.187097       0.188853      0.555461   \n",
      "4              0.083037           0.187097       0.188853      0.555461   \n",
      "...                 ...                ...            ...           ...   \n",
      "23071          0.078262           0.241258       0.177858      0.426475   \n",
      "23072          0.078262           0.241258       0.177858      0.426475   \n",
      "23073          0.078262           0.241258       0.177858      0.426475   \n",
      "23074          0.078262           0.241258       0.177858      0.426475   \n",
      "23075          0.078262           0.241258       0.177858      0.426475   \n",
      "\n",
      "       tempo_mean  instrumentalness_mean            processed_movie  \\\n",
      "0      123.097601               0.041390  marvel cinematic universe   \n",
      "1      123.097601               0.041390                  star wars   \n",
      "2      123.097601               0.041390               harry potter   \n",
      "3      123.097601               0.041390               harry potter   \n",
      "4      123.097601               0.041390              the lion king   \n",
      "...           ...                    ...                        ...   \n",
      "23071  122.380492               0.122211               the informer   \n",
      "23072  122.380492               0.122211               the informer   \n",
      "23073  122.380492               0.122211               the informer   \n",
      "23074  122.380492               0.122211                   revolver   \n",
      "23075  122.380492               0.122211                   revolver   \n",
      "\n",
      "                   expanded-genres                  Movie Genre  \\\n",
      "0                              NaN                          NaN   \n",
      "1       Action, Adventure, Fantasy   Action, Adventure, Fantasy   \n",
      "2                              NaN                          NaN   \n",
      "3                              NaN                          NaN   \n",
      "4      Animation, Adventure, Drama  Animation, Adventure, Drama   \n",
      "...                            ...                          ...   \n",
      "23071         Action, Crime, Drama         Action, Crime, Drama   \n",
      "23072                 Crime, Drama                 Crime, Drama   \n",
      "23073                     Thriller                     Thriller   \n",
      "23074         Action, Crime, Drama         Action, Crime, Drama   \n",
      "23075       Crime, Drama, Thriller       Crime, Drama, Thriller   \n",
      "\n",
      "                                 Associated Music Genres  \n",
      "0                                                    NaN  \n",
      "1      punk,techno,ambient,classical,celtic,edm,rock,...  \n",
      "2                                                    NaN  \n",
      "3                                                    NaN  \n",
      "4      pop,world-music,ambient,folk,jazz,classical,el...  \n",
      "...                                                  ...  \n",
      "23071  punk,techno,soul,edm,blues,singer-songwriter,r...  \n",
      "23072  pop,reggae,electronic,folk,jazz,soul,acoustic,...  \n",
      "23073  trance,dubstep,electronic,techno,ambient,dark-...  \n",
      "23074  punk,techno,soul,edm,blues,singer-songwriter,r...  \n",
      "23075  techno,ambient,soul,blues,edm,singer-songwrite...  \n",
      "\n",
      "[23076 rows x 17 columns]\n"
     ]
    }
   ],
   "source": [
    "complete_df = pd.merge(final_df, movie_music_genres_df, left_on='expanded-genres', right_on='Movie Genre', how='left')\n",
    "print(complete_df)"
   ]
  },
  {
   "cell_type": "code",
   "execution_count": 288,
   "metadata": {},
   "outputs": [
    {
     "name": "stdout",
     "output_type": "stream",
     "text": [
      "       mbti                     role                         movie  \\\n",
      "0      ESFP  Peter Quill \"Star-Lord\"     Marvel Cinematic Universe   \n",
      "1      ESFP         Anakin Skywalker                     Star Wars   \n",
      "2      ESFP              Ron Weasley      Harry Potter (franchise)   \n",
      "3      ESFP      Bellatrix Lestrange      Harry Potter (franchise)   \n",
      "4      ESFP                    Simba          The Lion King (1994)   \n",
      "...     ...                      ...                           ...   \n",
      "23071  INTJ     Klimek 'The General'                  The Informer   \n",
      "23072  INTJ     Klimek 'The General'                  The Informer   \n",
      "23073  INTJ     Klimek 'The General'                  The Informer   \n",
      "23074  INTJ              Lily Walker               Revolver (2005)   \n",
      "23075  INTJ              Lily Walker               Revolver (2005)   \n",
      "\n",
      "       danceability_mean  energy_mean  loudness_mean  mode_mean  \\\n",
      "0               0.638366     0.691941      -6.265767   0.597945   \n",
      "1               0.638366     0.691941      -6.265767   0.597945   \n",
      "2               0.638366     0.691941      -6.265767   0.597945   \n",
      "3               0.638366     0.691941      -6.265767   0.597945   \n",
      "4               0.638366     0.691941      -6.265767   0.597945   \n",
      "...                  ...          ...            ...        ...   \n",
      "23071           0.566374     0.630989      -7.368659   0.541247   \n",
      "23072           0.566374     0.630989      -7.368659   0.541247   \n",
      "23073           0.566374     0.630989      -7.368659   0.541247   \n",
      "23074           0.566374     0.630989      -7.368659   0.541247   \n",
      "23075           0.566374     0.630989      -7.368659   0.541247   \n",
      "\n",
      "       speechiness_mean  acousticness_mean  liveness_mean  valence_mean  \\\n",
      "0              0.083037           0.187097       0.188853      0.555461   \n",
      "1              0.083037           0.187097       0.188853      0.555461   \n",
      "2              0.083037           0.187097       0.188853      0.555461   \n",
      "3              0.083037           0.187097       0.188853      0.555461   \n",
      "4              0.083037           0.187097       0.188853      0.555461   \n",
      "...                 ...                ...            ...           ...   \n",
      "23071          0.078262           0.241258       0.177858      0.426475   \n",
      "23072          0.078262           0.241258       0.177858      0.426475   \n",
      "23073          0.078262           0.241258       0.177858      0.426475   \n",
      "23074          0.078262           0.241258       0.177858      0.426475   \n",
      "23075          0.078262           0.241258       0.177858      0.426475   \n",
      "\n",
      "       tempo_mean  instrumentalness_mean            processed_movie  \\\n",
      "0      123.097601               0.041390  marvel cinematic universe   \n",
      "1      123.097601               0.041390                  star wars   \n",
      "2      123.097601               0.041390               harry potter   \n",
      "3      123.097601               0.041390               harry potter   \n",
      "4      123.097601               0.041390              the lion king   \n",
      "...           ...                    ...                        ...   \n",
      "23071  122.380492               0.122211               the informer   \n",
      "23072  122.380492               0.122211               the informer   \n",
      "23073  122.380492               0.122211               the informer   \n",
      "23074  122.380492               0.122211                   revolver   \n",
      "23075  122.380492               0.122211                   revolver   \n",
      "\n",
      "                   expanded-genres  \\\n",
      "0                              NaN   \n",
      "1       Action, Adventure, Fantasy   \n",
      "2                              NaN   \n",
      "3                              NaN   \n",
      "4      Animation, Adventure, Drama   \n",
      "...                            ...   \n",
      "23071         Action, Crime, Drama   \n",
      "23072                 Crime, Drama   \n",
      "23073                     Thriller   \n",
      "23074         Action, Crime, Drama   \n",
      "23075       Crime, Drama, Thriller   \n",
      "\n",
      "                                 Associated Music Genres  \n",
      "0                                                    NaN  \n",
      "1      punk,techno,ambient,classical,celtic,edm,rock,...  \n",
      "2                                                    NaN  \n",
      "3                                                    NaN  \n",
      "4      pop,world-music,ambient,folk,jazz,classical,el...  \n",
      "...                                                  ...  \n",
      "23071  punk,techno,soul,edm,blues,singer-songwriter,r...  \n",
      "23072  pop,reggae,electronic,folk,jazz,soul,acoustic,...  \n",
      "23073  trance,dubstep,electronic,techno,ambient,dark-...  \n",
      "23074  punk,techno,soul,edm,blues,singer-songwriter,r...  \n",
      "23075  techno,ambient,soul,blues,edm,singer-songwrite...  \n",
      "\n",
      "[23076 rows x 16 columns]\n"
     ]
    }
   ],
   "source": [
    "complete_df=complete_df.drop_duplicates()\n",
    "complete_df = complete_df.drop(['Movie Genre'], axis=1)\n",
    "print(complete_df)"
   ]
  },
  {
   "cell_type": "code",
   "execution_count": 289,
   "metadata": {},
   "outputs": [],
   "source": [
    "complete_df = complete_df.to_csv('complete_df.csv', index=False)"
   ]
  }
 ],
 "metadata": {
  "kernelspec": {
   "display_name": "characterPlaylistGenerator",
   "language": "python",
   "name": "python3"
  },
  "language_info": {
   "codemirror_mode": {
    "name": "ipython",
    "version": 3
   },
   "file_extension": ".py",
   "mimetype": "text/x-python",
   "name": "python",
   "nbconvert_exporter": "python",
   "pygments_lexer": "ipython3",
   "version": "3.12.2"
  }
 },
 "nbformat": 4,
 "nbformat_minor": 2
}
